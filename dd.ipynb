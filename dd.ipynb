{
 "cells": [
  {
   "cell_type": "code",
   "execution_count": 1,
   "id": "ca1db9d6",
   "metadata": {},
   "outputs": [],
   "source": [
    "##import necessary packages\n",
    "import cv2 #openCV\n",
    "import random\n",
    "import numpy as np\n",
    "import os\n",
    "#Creating two empty lists\n",
    "#xs stores the image path\n",
    "#ys stores the corresponding steering wheel angle in radians\n",
    "xs = []\n",
    "ys = []"
   ]
  },
  {
   "cell_type": "code",
   "execution_count": 2,
   "id": "189889c2",
   "metadata": {},
   "outputs": [],
   "source": [
    "from itertools import islice\n",
    "from scipy import pi\n",
    "\n",
    "with open(R\"D:\\Self driving cars\\Autopilot-TensorFlow-master\\Autopilot-TensorFlow-master\\driving_dataset\\data.txt\") as f:\n",
    "    for line in islice(f,None): #islice is used to iterate over every line\n",
    "        a=line.split(',')[0]\n",
    "        path,angle=a.strip().split() #split() splits the path and angle\n",
    "        full_path=os.path.join(R\"D:\\Self driving cars\\07012018\",path)\n",
    "        xs.append(full_path)\n",
    "        ys.append(float(angle)*pi/180) #degree is converted to radian by multiplying pi/180"
   ]
  },
  {
   "cell_type": "code",
   "execution_count": 3,
   "id": "bbd2829f",
   "metadata": {},
   "outputs": [
    {
     "data": {
      "text/plain": [
       "63825"
      ]
     },
     "execution_count": 3,
     "metadata": {},
     "output_type": "execute_result"
    }
   ],
   "source": [
    "num_images = len(xs)\n",
    "num_images"
   ]
  },
  {
   "cell_type": "code",
   "execution_count": 4,
   "id": "43e60fd7",
   "metadata": {},
   "outputs": [],
   "source": [
    "#Random Shuffling\n",
    "c = list(zip(xs,ys))\n",
    "random.shuffle(c)\n",
    "xs, ys = zip(*c)"
   ]
  },
  {
   "cell_type": "code",
   "execution_count": 5,
   "id": "cfc30a9a",
   "metadata": {},
   "outputs": [],
   "source": [
    "#We take 80% of the data for training and 20% for testing\n",
    "#This is temporal data so random split is not possible\n",
    "split_index=int(0.8*len(xs))\n",
    "train_xs = xs[:split_index]\n",
    "train_ys = ys[:split_index]\n",
    "\n",
    "val_xs = xs[split_index:]\n",
    "val_ys = ys[split_index:]"
   ]
  },
  {
   "cell_type": "code",
   "execution_count": 6,
   "id": "19b4f7fe",
   "metadata": {},
   "outputs": [],
   "source": [
    "num_train_images = len(train_xs)\n",
    "num_val_images = len(val_xs)"
   ]
  },
  {
   "cell_type": "code",
   "execution_count": 7,
   "id": "e660359f",
   "metadata": {},
   "outputs": [
    {
     "name": "stdout",
     "output_type": "stream",
     "text": [
      "51060\n",
      "12765\n"
     ]
    }
   ],
   "source": [
    "print(num_train_images)\n",
    "print(num_val_images)"
   ]
  },
  {
   "cell_type": "code",
   "execution_count": 8,
   "id": "3c11a6c3",
   "metadata": {},
   "outputs": [],
   "source": [
    "train_batch_pointer = 0\n",
    "val_batch_pointer = 0\n",
    "\n",
    "def LoadTrainBatch(batch_size):\n",
    "    global train_batch_pointer #To update the values for each batch, it is assigned with keyword global\n",
    "    x_out = [] #train images are read,resized to (200,66) and normalised and appended in x_out\n",
    "    y_out = [] #Corresponding steering wheel angles are appended\n",
    "    for i in range(0, batch_size):\n",
    "        x_out.append(cv2.resize(cv2.imread(train_xs[(train_batch_pointer + i) % num_train_images])[-150:], (200, 66)) / 255.0)\n",
    "        y_out.append([train_ys[(train_batch_pointer + i) % num_train_images]])\n",
    "    train_batch_pointer += batch_size\n",
    "    return x_out, y_out\n",
    "\n",
    "def LoadValBatch(batch_size):\n",
    "    global val_batch_pointer\n",
    "    x_out = []#validation images are read,resized to (200,66) and normalised and appended in x_out\n",
    "    y_out = []#Corresponding steering wheel angles are appended\n",
    "    for i in range(0, batch_size):\n",
    "        x_out.append(cv2.resize(cv2.imread(val_xs[(val_batch_pointer + i) % num_val_images])[-150:], (200, 66)) / 255.0)\n",
    "        y_out.append([val_ys[(val_batch_pointer + i) % num_val_images]])\n",
    "    val_batch_pointer += batch_size\n",
    "    return x_out, y_out\n"
   ]
  },
  {
   "cell_type": "code",
   "execution_count": 10,
   "id": "275c74ea",
   "metadata": {},
   "outputs": [
    {
     "data": {
      "text/plain": [
       "(array([2.1000e+01, 1.2000e+01, 9.4000e+01, 3.9000e+02, 1.7030e+03,\n",
       "        5.4365e+04, 6.5780e+03, 4.1600e+02, 1.1900e+02, 1.2700e+02]),\n",
       " array([-5.91352469, -4.8812846 , -3.84904451, -2.81680441, -1.78456432,\n",
       "        -0.75232423,  0.27991587,  1.31215596,  2.34439605,  3.37663615,\n",
       "         4.40887624]),\n",
       " <BarContainer object of 10 artists>)"
      ]
     },
     "execution_count": 10,
     "metadata": {},
     "output_type": "execute_result"
    },
    {
     "data": {
      "image/png": "[encoded data removed]",
      "text/plain": [
       "<Figure size 432x288 with 1 Axes>"
      ]
     },
     "metadata": {
      "needs_background": "light"
     },
     "output_type": "display_data"
    }
   ],
   "source": [
    "import matplotlib.pyplot as plt\n",
    "plt.hist(ys)\n"
   ]
  },
  {
   "cell_type": "code",
   "execution_count": null,
   "id": "58cab7f5",
   "metadata": {},
   "outputs": [],
   "source": []
  }
 ],
 "metadata": {
  "kernelspec": {
   "display_name": "Python 3 (ipykernel)",
   "language": "python",
   "name": "python3"
  },
  "language_info": {
   "codemirror_mode": {
    "name": "ipython",
    "version": 3
   },
   "file_extension": ".py",
   "mimetype": "text/x-python",
   "name": "python",
   "nbconvert_exporter": "python",
   "pygments_lexer": "ipython3",
   "version": "3.9.12"
  }
 },
 "nbformat": 4,
 "nbformat_minor": 5
}
